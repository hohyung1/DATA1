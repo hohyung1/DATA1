{
 "cells": [
  {
   "cell_type": "code",
   "execution_count": 1,
   "id": "3d805915",
   "metadata": {},
   "outputs": [],
   "source": [
    "strVal = 'data science'               # 문자열 변수\n",
    "nVal = 12345                          # 정수형 변수\n",
    "fVal = 1.2                            # 실수형 변수\n",
    "lVal = ['data', 'science']            # 리스트\n",
    "dVal = {'lecture' : 'data science'}   # 딕셔너리\n",
    "bVal = True                           # 논리형 변수(참/거짓)"
   ]
  },
  {
   "cell_type": "code",
   "execution_count": null,
   "id": "3e849a23",
   "metadata": {},
   "outputs": [],
   "source": []
  },
  {
   "cell_type": "code",
   "execution_count": null,
   "id": "67a40327",
   "metadata": {},
   "outputs": [],
   "source": []
  }
 ],
 "metadata": {
  "kernelspec": {
   "display_name": "Python 3 (ipykernel)",
   "language": "python",
   "name": "python3"
  },
  "language_info": {
   "codemirror_mode": {
    "name": "ipython",
    "version": 3
   },
   "file_extension": ".py",
   "mimetype": "text/x-python",
   "name": "python",
   "nbconvert_exporter": "python",
   "pygments_lexer": "ipython3",
   "version": "3.9.12"
  }
 },
 "nbformat": 4,
 "nbformat_minor": 5
}
